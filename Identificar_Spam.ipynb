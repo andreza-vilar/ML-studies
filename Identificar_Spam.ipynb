{
  "cells": [
    {
      "cell_type": "markdown",
      "metadata": {
        "id": "Nnly6nIRfr4T"
      },
      "source": [
        "# Identificador de SPAM\n",
        "---\n",
        "O objetivo desse projeto é desenvolver um classificador para verificar se determinada mensagem é SPAM ou não"
      ]
    },
    {
      "cell_type": "code",
      "execution_count": null,
      "metadata": {
        "colab": {
          "base_uri": "https://localhost:8080/"
        },
        "id": "zNCfHEyQ8dZv",
        "outputId": "23e9e655-3a84-4047-ed47-5adc6980efad"
      },
      "outputs": [
        {
          "ename": "",
          "evalue": "",
          "output_type": "error",
          "traceback": [
            "\u001b[1;31mA execução de células com 'Python 3.10.12' requer o pacote ipykernel.\n",
            "\u001b[1;31mExecute o seguinte comando para instalar \"ipykernel\" no ambiente do Python. \n",
            "\u001b[1;31mComando: \"/bin/python3 -m pip install ipykernel -U --user --force-reinstall\""
          ]
        }
      ],
      "source": [
        "!pip install nltk"
      ]
    },
    {
      "cell_type": "code",
      "execution_count": null,
      "metadata": {
        "colab": {
          "base_uri": "https://localhost:8080/"
        },
        "id": "UZnIgh379rWB",
        "outputId": "cb58d2d8-508e-439c-daab-37b292da8224"
      },
      "outputs": [
        {
          "ename": "",
          "evalue": "",
          "output_type": "error",
          "traceback": [
            "\u001b[1;31mA execução de células com 'Python 3.10.12' requer o pacote ipykernel.\n",
            "\u001b[1;31mExecute o seguinte comando para instalar \"ipykernel\" no ambiente do Python. \n",
            "\u001b[1;31mComando: \"/bin/python3 -m pip install ipykernel -U --user --force-reinstall\""
          ]
        }
      ],
      "source": [
        "# Importação das bibliotecas necessárias\n",
        "import nltk\n",
        "import pandas as pd\n",
        "import seaborn as sns\n",
        "import string\n",
        "from nltk.corpus import stopwords\n",
        "from sklearn.feature_extraction.text import CountVectorizer\n",
        "from sklearn.metrics import classification_report, confusion_matrix\n",
        "from sklearn.pipeline import Pipeline\n",
        "from sklearn.naive_bayes import MultinomialNB\n",
        "import numpy as np\n",
        "import matplotlib.pyplot as plt\n",
        "from sklearn.model_selection import train_test_split\n",
        "\n",
        "# Download dos stopwords\n",
        "nltk.download('stopwords')"
      ]
    },
    {
      "cell_type": "code",
      "execution_count": null,
      "metadata": {
        "id": "AStk3WdB9GIX"
      },
      "outputs": [
        {
          "ename": "",
          "evalue": "",
          "output_type": "error",
          "traceback": [
            "\u001b[1;31mA execução de células com 'Python 3.10.12' requer o pacote ipykernel.\n",
            "\u001b[1;31mExecute o seguinte comando para instalar \"ipykernel\" no ambiente do Python. \n",
            "\u001b[1;31mComando: \"/bin/python3 -m pip install ipykernel -U --user --force-reinstall\""
          ]
        }
      ],
      "source": []
    },
    {
      "cell_type": "markdown",
      "metadata": {
        "id": "yjmz932mgwEd"
      },
      "source": [
        "## Lendo o arquivo e transformando-o num DataFrame"
      ]
    },
    {
      "cell_type": "code",
      "execution_count": null,
      "metadata": {
        "id": "L0sBGxxf9p1D"
      },
      "outputs": [
        {
          "ename": "",
          "evalue": "",
          "output_type": "error",
          "traceback": [
            "\u001b[1;31mA execução de células com 'Python 3.10.12' requer o pacote ipykernel.\n",
            "\u001b[1;31mExecute o seguinte comando para instalar \"ipykernel\" no ambiente do Python. \n",
            "\u001b[1;31mComando: \"/bin/python3 -m pip install ipykernel -U --user --force-reinstall\""
          ]
        }
      ],
      "source": [
        "messages = [line.rstrip() for line in open('SMSSpamCollection')]"
      ]
    },
    {
      "cell_type": "code",
      "execution_count": null,
      "metadata": {
        "id": "nSnwuH3r-zNC"
      },
      "outputs": [
        {
          "ename": "",
          "evalue": "",
          "output_type": "error",
          "traceback": [
            "\u001b[1;31mA execução de células com 'Python 3.10.12' requer o pacote ipykernel.\n",
            "\u001b[1;31mExecute o seguinte comando para instalar \"ipykernel\" no ambiente do Python. \n",
            "\u001b[1;31mComando: \"/bin/python3 -m pip install ipykernel -U --user --force-reinstall\""
          ]
        }
      ],
      "source": [
        "label_list = []\n",
        "text_list = []\n",
        "\n",
        "for i in range(len(messages)):\n",
        "  label_list.append(messages[i].split('\\t')[0])\n",
        "  text_list.append(messages[i].split('\\t')[1])\n",
        "\n",
        "df = pd.DataFrame(dict(zip(text_list, label_list)), index=['label']).T.reset_index().rename(columns={'index':'text'})"
      ]
    },
    {
      "cell_type": "code",
      "execution_count": null,
      "metadata": {
        "colab": {
          "base_uri": "https://localhost:8080/",
          "height": 301
        },
        "id": "li_zWEGJ_DKy",
        "outputId": "51645f81-0a26-4f27-d2f8-a9f34f6d52cc"
      },
      "outputs": [
        {
          "ename": "",
          "evalue": "",
          "output_type": "error",
          "traceback": [
            "\u001b[1;31mA execução de células com 'Python 3.10.12' requer o pacote ipykernel.\n",
            "\u001b[1;31mExecute o seguinte comando para instalar \"ipykernel\" no ambiente do Python. \n",
            "\u001b[1;31mComando: \"/bin/python3 -m pip install ipykernel -U --user --force-reinstall\""
          ]
        }
      ],
      "source": [
        "ax = df.label.value_counts().plot(kind='bar')\n",
        "plt.box(False)\n",
        "plt.title('Spam x non-spam messages\\n',fontsize=16)\n",
        "plt.xticks(rotation=360)\n",
        "for b in ax.patches:\n",
        "  plt.annotate(f\"{b.get_height()}\",(b.get_x()+ 0.2 , b.get_height()+80))"
      ]
    },
    {
      "cell_type": "code",
      "execution_count": null,
      "metadata": {
        "colab": {
          "base_uri": "https://localhost:8080/"
        },
        "id": "lkZoLyWbBtMr",
        "outputId": "228a26ad-5b62-4f69-b75f-6165bf035b55"
      },
      "outputs": [
        {
          "ename": "",
          "evalue": "",
          "output_type": "error",
          "traceback": [
            "\u001b[1;31mA execução de células com 'Python 3.10.12' requer o pacote ipykernel.\n",
            "\u001b[1;31mExecute o seguinte comando para instalar \"ipykernel\" no ambiente do Python. \n",
            "\u001b[1;31mComando: \"/bin/python3 -m pip install ipykernel -U --user --force-reinstall\""
          ]
        }
      ],
      "source": [
        "df.label.value_counts()"
      ]
    },
    {
      "cell_type": "markdown",
      "metadata": {
        "id": "hcnreyONinyL"
      },
      "source": [
        "Agora vamos criar uma coluna com o tamanho dos textos das mensagens"
      ]
    },
    {
      "cell_type": "code",
      "execution_count": null,
      "metadata": {
        "id": "AYW4XUC3CDuj"
      },
      "outputs": [
        {
          "ename": "",
          "evalue": "",
          "output_type": "error",
          "traceback": [
            "\u001b[1;31mA execução de células com 'Python 3.10.12' requer o pacote ipykernel.\n",
            "\u001b[1;31mExecute o seguinte comando para instalar \"ipykernel\" no ambiente do Python. \n",
            "\u001b[1;31mComando: \"/bin/python3 -m pip install ipykernel -U --user --force-reinstall\""
          ]
        }
      ],
      "source": [
        "df['length'] = df['text'].apply(lambda x: len(x))"
      ]
    },
    {
      "cell_type": "code",
      "execution_count": null,
      "metadata": {
        "colab": {
          "base_uri": "https://localhost:8080/",
          "height": 278
        },
        "id": "i8pbbcu_CImc",
        "outputId": "12bed27c-233f-4bd4-b8e4-93dbd8a4f373"
      },
      "outputs": [
        {
          "ename": "",
          "evalue": "",
          "output_type": "error",
          "traceback": [
            "\u001b[1;31mA execução de células com 'Python 3.10.12' requer o pacote ipykernel.\n",
            "\u001b[1;31mExecute o seguinte comando para instalar \"ipykernel\" no ambiente do Python. \n",
            "\u001b[1;31mComando: \"/bin/python3 -m pip install ipykernel -U --user --force-reinstall\""
          ]
        }
      ],
      "source": [
        "sns.kdeplot(x='length', hue='label', data=df)\n",
        "plt.box(False)"
      ]
    },
    {
      "cell_type": "markdown",
      "metadata": {
        "id": "kR9Patl-iu0j"
      },
      "source": [
        "Podemos notar uma clara diferença entre mensagens spam e não spam. Essa diferença está na concentração do tamanho das mensagens."
      ]
    },
    {
      "cell_type": "markdown",
      "metadata": {
        "id": "4gLhoW30Eto3"
      },
      "source": [
        "# Pré-processamento"
      ]
    },
    {
      "cell_type": "code",
      "execution_count": 8,
      "metadata": {
        "id": "aD5Pt7wEEtF3"
      },
      "outputs": [],
      "source": []
    },
    {
      "cell_type": "markdown",
      "metadata": {
        "id": "f2SDwH5PjBwg"
      },
      "source": [
        "Primeiro criamos a função que tira as pontuações e depois tira as stopwords"
      ]
    },
    {
      "cell_type": "code",
      "execution_count": 9,
      "metadata": {
        "id": "kgIS5L4BIjqk"
      },
      "outputs": [],
      "source": [
        "def pre_processing(mess):\n",
        "  sem_pont = [letra for letra in mess if letra not in string.punctuation]\n",
        "  texto = ''.join(sem_pont)\n",
        "  sem_stop = [palavra for palavra in texto.split() if palavra.lower() not in stopwords.words('english')]\n",
        "  return sem_stop"
      ]
    },
    {
      "cell_type": "markdown",
      "metadata": {
        "id": "NCw78M0IkEH-"
      },
      "source": [
        "Aplicando"
      ]
    },
    {
      "cell_type": "code",
      "execution_count": 10,
      "metadata": {
        "id": "rM5aFG6SKhaS"
      },
      "outputs": [],
      "source": [
        "df['text_clean'] = df['text'].apply(pre_processing)"
      ]
    },
    {
      "cell_type": "markdown",
      "metadata": {
        "id": "vlD8rrWsPTqS"
      },
      "source": [
        "Não utilizaremos essa coluna, mas aplicaremos a função para criar nosso transformador"
      ]
    },
    {
      "cell_type": "code",
      "execution_count": 10,
      "metadata": {
        "id": "uJsZ3HNuPT9P"
      },
      "outputs": [],
      "source": []
    },
    {
      "cell_type": "code",
      "execution_count": 11,
      "metadata": {
        "id": "r28ZNQQYPdOV"
      },
      "outputs": [],
      "source": [
        "transformer = CountVectorizer(analyzer=pre_processing).fit(df['text'])"
      ]
    },
    {
      "cell_type": "code",
      "execution_count": 12,
      "metadata": {
        "id": "2i79DiIyP8_m"
      },
      "outputs": [],
      "source": [
        "text3 = transformer.transform([df['text'][3]])"
      ]
    },
    {
      "cell_type": "code",
      "execution_count": 13,
      "metadata": {
        "id": "etbC1661TQkZ"
      },
      "outputs": [],
      "source": [
        "textos = transformer.transform([df['text']])"
      ]
    },
    {
      "cell_type": "markdown",
      "metadata": {
        "id": "X-b2vztxh2fZ"
      },
      "source": [
        "## Método TF-idf\n",
        "---\n",
        "A ideia do TF-idf é redimensionar a frequência das palavras pela frequência com que aparecem em todos os documentos."
      ]
    },
    {
      "cell_type": "code",
      "execution_count": 14,
      "metadata": {
        "id": "C32eybnTSUc5"
      },
      "outputs": [],
      "source": [
        "from sklearn.feature_extraction.text import TfidfTransformer"
      ]
    },
    {
      "cell_type": "code",
      "execution_count": 15,
      "metadata": {
        "id": "F7Tyy6j_SfqV"
      },
      "outputs": [],
      "source": [
        "transformer_tf = TfidfTransformer()\n",
        "transformer_tf = transformer_tf.fit(textos)"
      ]
    },
    {
      "cell_type": "markdown",
      "metadata": {
        "id": "6jagJDSPkpnt"
      },
      "source": [
        "Vamos ver um exemplo:"
      ]
    },
    {
      "cell_type": "code",
      "execution_count": 16,
      "metadata": {
        "colab": {
          "base_uri": "https://localhost:8080/"
        },
        "id": "HTTCtN9iTBB3",
        "outputId": "a0b31645-3e52-45ef-8962-5fb8844ff90b"
      },
      "outputs": [
        {
          "name": "stdout",
          "output_type": "stream",
          "text": [
            "  (0, 9554)\t0.5187068876586773\n",
            "  (0, 7186)\t0.43912355218815696\n",
            "  (0, 6222)\t0.25935344382933867\n",
            "  (0, 6204)\t0.25935344382933867\n",
            "  (0, 5261)\t0.25935344382933867\n",
            "  (0, 4629)\t0.25935344382933867\n",
            "  (0, 4068)\t0.5187068876586773\n"
          ]
        }
      ],
      "source": [
        "tfidf4 = transformer_tf.transform(text3)\n",
        "print(tfidf4)"
      ]
    },
    {
      "cell_type": "markdown",
      "metadata": {
        "id": "2tRiUNpRUz6O"
      },
      "source": [
        "## Modelagem preditiva"
      ]
    },
    {
      "cell_type": "markdown",
      "metadata": {
        "id": "YB5MP4Q-U3TT"
      },
      "source": [
        "**Modelo Naive Bayes**"
      ]
    },
    {
      "cell_type": "code",
      "execution_count": 17,
      "metadata": {
        "id": "MSFalpwAWggx"
      },
      "outputs": [],
      "source": [
        "from sklearn.naive_bayes import MultinomialNB\n",
        "import numpy as np\n",
        "from sklearn.model_selection import train_test_split"
      ]
    },
    {
      "cell_type": "code",
      "execution_count": 18,
      "metadata": {
        "id": "L3tJXfdQYoWD"
      },
      "outputs": [],
      "source": [
        "text_tfidf = transformer_tf.transform(textos)"
      ]
    },
    {
      "cell_type": "markdown",
      "metadata": {
        "id": "ccjypzcpekXy"
      },
      "source": [
        "Separando em treino e teste"
      ]
    },
    {
      "cell_type": "code",
      "execution_count": 19,
      "metadata": {
        "id": "ow2a15T8fOaT"
      },
      "outputs": [],
      "source": [
        "txt_treino, txt_teste, label_treino, label_teste = train_test_split(df['text'], df['label'])"
      ]
    },
    {
      "cell_type": "markdown",
      "metadata": {
        "id": "gzXwDHxFfe7F"
      },
      "source": [
        "O scikit learn nos fornece a função Pipeline"
      ]
    },
    {
      "cell_type": "code",
      "execution_count": 20,
      "metadata": {
        "id": "hI_tG04kg_bn"
      },
      "outputs": [],
      "source": [
        "from sklearn.pipeline import Pipeline"
      ]
    },
    {
      "cell_type": "code",
      "execution_count": 21,
      "metadata": {
        "id": "VJX5Ff3rhGrb"
      },
      "outputs": [],
      "source": [
        "pipeline = Pipeline([\n",
        "                    ('bow', CountVectorizer()),\n",
        "                    ('tfidf', TfidfTransformer()),\n",
        "                    ('classifiet', MultinomialNB())\n",
        "])"
      ]
    },
    {
      "cell_type": "code",
      "execution_count": 22,
      "metadata": {
        "colab": {
          "base_uri": "https://localhost:8080/"
        },
        "id": "sYH6T70EidBs",
        "outputId": "f938aee3-f6bb-484f-a317-0a3af11a8540"
      },
      "outputs": [
        {
          "data": {
            "text/plain": [
              "Pipeline(memory=None,\n",
              "         steps=[('bow',\n",
              "                 CountVectorizer(analyzer='word', binary=False,\n",
              "                                 decode_error='strict',\n",
              "                                 dtype=<class 'numpy.int64'>, encoding='utf-8',\n",
              "                                 input='content', lowercase=True, max_df=1.0,\n",
              "                                 max_features=None, min_df=1,\n",
              "                                 ngram_range=(1, 1), preprocessor=None,\n",
              "                                 stop_words=None, strip_accents=None,\n",
              "                                 token_pattern='(?u)\\\\b\\\\w\\\\w+\\\\b',\n",
              "                                 tokenizer=None, vocabulary=None)),\n",
              "                ('tfidf',\n",
              "                 TfidfTransformer(norm='l2', smooth_idf=True,\n",
              "                                  sublinear_tf=False, use_idf=True)),\n",
              "                ('classifiet',\n",
              "                 MultinomialNB(alpha=1.0, class_prior=None, fit_prior=True))],\n",
              "         verbose=False)"
            ]
          },
          "execution_count": 22,
          "metadata": {},
          "output_type": "execute_result"
        }
      ],
      "source": [
        "pipeline.fit(txt_treino, label_treino)"
      ]
    },
    {
      "cell_type": "code",
      "execution_count": 23,
      "metadata": {
        "id": "c5ud9wDqigH4"
      },
      "outputs": [],
      "source": [
        "pred = pipeline.predict(df['text'])"
      ]
    },
    {
      "cell_type": "markdown",
      "metadata": {
        "id": "ua_VoVphfpvQ"
      },
      "source": [
        "## Avaliando o modelo\n",
        "---\n",
        "Para avaliar nosso classificador, vamos utilizar o relatório de classificação e a matriz de confusão."
      ]
    },
    {
      "cell_type": "code",
      "execution_count": 24,
      "metadata": {
        "id": "8suv7PaTi44S"
      },
      "outputs": [],
      "source": [
        "from sklearn.metrics import classification_report, confusion_matrix"
      ]
    },
    {
      "cell_type": "code",
      "execution_count": 25,
      "metadata": {
        "colab": {
          "base_uri": "https://localhost:8080/"
        },
        "id": "5ZEmYLz_i9Zc",
        "outputId": "0261fe81-7678-4f49-e8e1-b3fb481f03eb"
      },
      "outputs": [
        {
          "name": "stdout",
          "output_type": "stream",
          "text": [
            "              precision    recall  f1-score   support\n",
            "\n",
            "         ham       0.96      1.00      0.98      4518\n",
            "        spam       1.00      0.71      0.83       642\n",
            "\n",
            "    accuracy                           0.96      5160\n",
            "   macro avg       0.98      0.86      0.91      5160\n",
            "weighted avg       0.97      0.96      0.96      5160\n",
            "\n"
          ]
        }
      ],
      "source": [
        "print(classification_report(df['label'], pred))"
      ]
    },
    {
      "cell_type": "code",
      "execution_count": 28,
      "metadata": {
        "colab": {
          "base_uri": "https://localhost:8080/",
          "height": 294
        },
        "id": "9kWeW6Lnk9ck",
        "outputId": "53b0525d-2523-45be-ee8b-d3e10cde5a9b"
      },
      "outputs": [
        {
          "data": {
            "image/png": "[encoded data removed]",
            "text/plain": [
              "<Figure size 432x288 with 2 Axes>"
            ]
          },
          "metadata": {
            "needs_background": "light"
          },
          "output_type": "display_data"
        }
      ],
      "source": [
        "sns.heatmap(confusion_matrix(df['label'], pred), annot=True, cmap='Blues', fmt='g')\n",
        "plt.suptitle('Matriz de confusão do classificador\\n', fontsize=16)\n",
        "plt.title('0 = ham // 1 = spam');"
      ]
    }
  ],
  "metadata": {
    "colab": {
      "collapsed_sections": [],
      "name": "Classificador de SPAM",
      "provenance": []
    },
    "kernelspec": {
      "display_name": "Python 3",
      "name": "python3"
    },
    "language_info": {
      "name": "python",
      "version": "3.10.12"
    }
  },
  "nbformat": 4,
  "nbformat_minor": 0
}
